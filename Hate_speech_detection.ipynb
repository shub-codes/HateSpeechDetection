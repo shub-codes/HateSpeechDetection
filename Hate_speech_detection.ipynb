{
  "nbformat": 4,
  "nbformat_minor": 0,
  "metadata": {
    "colab": {
      "provenance": [],
      "mount_file_id": "1i6Hz4z113Wwde2D64tThwN4EFrI-wzpi",
      "authorship_tag": "ABX9TyMTfIP/OD5fzQQoyyBxm6cu",
      "include_colab_link": true
    },
    "kernelspec": {
      "name": "python3",
      "display_name": "Python 3"
    },
    "language_info": {
      "name": "python"
    }
  },
  "cells": [
    {
      "cell_type": "markdown",
      "metadata": {
        "id": "view-in-github",
        "colab_type": "text"
      },
      "source": [
        "<a href=\"https://colab.research.google.com/github/shub-codes/HateSpeechDetection/blob/main/Hate_speech_detection.ipynb\" target=\"_parent\"><img src=\"https://colab.research.google.com/assets/colab-badge.svg\" alt=\"Open In Colab\"/></a>"
      ]
    },
    {
      "cell_type": "code",
      "source": [
        "!pip install kaggle\n",
        "!pip install opendatasets"
      ],
      "metadata": {
        "collapsed": true,
        "id": "HI4ca957M2Sf"
      },
      "execution_count": null,
      "outputs": []
    },
    {
      "cell_type": "code",
      "source": [
        "import opendatasets as od\n",
        "od.download(\"https://www.kaggle.com/datasets/thedevastator/hate-speech-and-offensive-language-detection\")"
      ],
      "metadata": {
        "collapsed": true,
        "id": "aTZRIIpbYoDZ"
      },
      "execution_count": null,
      "outputs": []
    },
    {
      "cell_type": "markdown",
      "source": [
        "<h1> 1) importing libraries</h1>\n",
        "<ol>\n",
        "<li> <h3>  pandas - analyse, clean,explore and manipulate the dataset .<br>\n",
        "<li>  <h3> re or regex - A RegEx, or Regular Expression, is a sequence of characters that forms a search pattern. RegEx can be used to check if a string contains the specified search pattern.<br>\n",
        "<li> <h3> nltk- natural language transformer kit.<br>\n"
      ],
      "metadata": {
        "id": "Tbb4d1WZTMYp"
      }
    },
    {
      "cell_type": "code",
      "execution_count": null,
      "metadata": {
        "id": "h6Au-lriS3pX"
      },
      "outputs": [],
      "source": [
        "import pandas as pd #to read and write csv files\n",
        "import numpy as np\n",
        "import nltk\n",
        "nltk.download('stopwords') # natural language toolkit\n",
        "import re #regular expressions\n",
        "from nltk.corpus import stopwords # to remove words like a, the,is etc. such words contribute almost nothing\n",
        "from nltk.stem import WordNetLemmatizer # to impplement lemmitisation\n",
        "from tensorflow.keras.preprocessing.text import Tokenizer\n",
        "from tensorflow.keras.preprocessing.sequence import pad_sequences\n",
        "from tensorflow.keras.models import Sequential\n",
        "from tensorflow.keras.layers import Dense, Embedding, LSTM, SpatialDropout1D\n",
        "from sklearn.model_selection import train_test_split\n",
        "from keras.utils import to_categorical\n",
        "import matplotlib.pyplot as plt\n",
        "from keras import backend as K\n"
      ]
    },
    {
      "cell_type": "markdown",
      "source": [
        "<h1> 2) Importing and reading data"
      ],
      "metadata": {
        "id": "M-vQQyaUp162"
      }
    },
    {
      "cell_type": "code",
      "source": [
        "df=pd.read_csv(\"/content/hate-speech-and-offensive-language-detection/train.csv\")\n",
        "# print(df.head(5))\n",
        "print(f\"df has {df.shape[0]}  rows and {df.shape[1]} cols\")\n",
        "for head in df.columns[:-1]:\n",
        "  print(f\"{head}\")\n",
        "  print(f\"null values = {df[head].isnull().sum()}\")\n",
        "  print(f\"description of {head} is as follows {df[head].describe()}\")"
      ],
      "metadata": {
        "colab": {
          "base_uri": "https://localhost:8080/"
        },
        "id": "gGfPcG62ZTK5",
        "outputId": "5046b56e-908d-42c6-828c-5cf2ed5f988d"
      },
      "execution_count": 11,
      "outputs": [
        {
          "output_type": "stream",
          "name": "stdout",
          "text": [
            "df has 24783  rows and 6 cols\n",
            "count\n",
            "null values = 0\n",
            "description of count is as follows count    24783.000000\n",
            "mean         3.243473\n",
            "std          0.883060\n",
            "min          3.000000\n",
            "25%          3.000000\n",
            "50%          3.000000\n",
            "75%          3.000000\n",
            "max          9.000000\n",
            "Name: count, dtype: float64\n",
            "hate_speech_count\n",
            "null values = 0\n",
            "description of hate_speech_count is as follows count    24783.000000\n",
            "mean         0.280515\n",
            "std          0.631851\n",
            "min          0.000000\n",
            "25%          0.000000\n",
            "50%          0.000000\n",
            "75%          0.000000\n",
            "max          7.000000\n",
            "Name: hate_speech_count, dtype: float64\n",
            "offensive_language_count\n",
            "null values = 0\n",
            "description of offensive_language_count is as follows count    24783.000000\n",
            "mean         2.413711\n",
            "std          1.399459\n",
            "min          0.000000\n",
            "25%          2.000000\n",
            "50%          3.000000\n",
            "75%          3.000000\n",
            "max          9.000000\n",
            "Name: offensive_language_count, dtype: float64\n",
            "neither_count\n",
            "null values = 0\n",
            "description of neither_count is as follows count    24783.000000\n",
            "mean         0.549247\n",
            "std          1.113299\n",
            "min          0.000000\n",
            "25%          0.000000\n",
            "50%          0.000000\n",
            "75%          0.000000\n",
            "max          9.000000\n",
            "Name: neither_count, dtype: float64\n",
            "class\n",
            "null values = 0\n",
            "description of class is as follows count    24783.000000\n",
            "mean         1.110277\n",
            "std          0.462089\n",
            "min          0.000000\n",
            "25%          1.000000\n",
            "50%          1.000000\n",
            "75%          1.000000\n",
            "max          2.000000\n",
            "Name: class, dtype: float64\n"
          ]
        }
      ]
    },
    {
      "cell_type": "markdown",
      "source": [
        "<h2> plotting dataset</h2>"
      ],
      "metadata": {
        "id": "fsQaADZK3ZPt"
      }
    },
    {
      "cell_type": "code",
      "source": [
        "import seaborn as sns\n",
        "df_corr=df.drop(columns=[df.columns[-1],df.columns[0]])\n",
        "df_corr=df_corr.corr()\n",
        "mask=np.triu(np.ones_like(df_corr))\n",
        "print(df_corr)\n",
        "sns.heatmap(df_corr,annot=True,mask=mask,cmap=\"viridis\")\n"
      ],
      "metadata": {
        "colab": {
          "base_uri": "https://localhost:8080/",
          "height": 811
        },
        "id": "ggOWOSJX3eFr",
        "outputId": "07e8c2f8-789b-4390-cfd6-68f473541eda"
      },
      "execution_count": 19,
      "outputs": [
        {
          "output_type": "stream",
          "name": "stdout",
          "text": [
            "                          hate_speech_count  offensive_language_count  \\\n",
            "hate_speech_count                  1.000000                 -0.261808   \n",
            "offensive_language_count          -0.261808                  1.000000   \n",
            "neither_count                     -0.157599                 -0.684406   \n",
            "class                             -0.515732                 -0.410440   \n",
            "\n",
            "                          neither_count     class  \n",
            "hate_speech_count             -0.157599 -0.515732  \n",
            "offensive_language_count      -0.684406 -0.410440  \n",
            "neither_count                  1.000000  0.800687  \n",
            "class                          0.800687  1.000000  \n"
          ]
        },
        {
          "output_type": "execute_result",
          "data": {
            "text/plain": [
              "<Axes: >"
            ]
          },
          "metadata": {},
          "execution_count": 19
        },
        {
          "output_type": "display_data",
          "data": {
            "text/plain": [
              "<Figure size 640x480 with 2 Axes>"
            ],
            "image/png": "[encoded data removed]"
          },
          "metadata": {}
        }
      ]
    },
    {
      "cell_type": "markdown",
      "source": [
        "<h1> 3) CLEANING THE DATA USING REGULAR EXPRESSIONS </h1>\n",
        "<h3> implement lemmitisation function after initial model training. compare the results with and without lemmitisation. compare runtime, accuracy and f1 score"
      ],
      "metadata": {
        "id": "NtgBip1qnTG9"
      }
    },
    {
      "cell_type": "code",
      "source": [
        "stopWords= set(stopwords.words('english'))\n",
        "stopWords.add('RT') # to add the RT which means retweet\n",
        "#remove html entity\n",
        "def remove_entity(raw_text):\n",
        "  text_regex= r\"&(#\\d+|#x[a-fA-F0-9]+|[a-zA-Z]+);\"\n",
        "  updated_text=re.sub(text_regex,\"\",raw_text)\n",
        "  return updated_text\n",
        "# removes user tags\n",
        "def remove_user_tags(raw_text):\n",
        "  user_regex=r\"@\\w+\"\n",
        "  updated_text=re.sub(user_regex,\"\",raw_text)\n",
        "  return updated_text\n",
        "# removes urls\n",
        "def remove_urls(raw_text):\n",
        "  url_regex=r\"https?://\\S+|www\\.\\S+\"\n",
        "  updated_text=re.sub(url_regex,\"\",raw_text,flags=re.IGNORECASE)\n",
        "  return updated_text\n",
        "# to remove unnecessary markings\n",
        "def remove_noise(raw_text):\n",
        "  noise_regex=r\"['\\\"!`]|\\.{2,}\"\n",
        "  updated_text=re.sub(noise_regex,\"\",raw_text)\n",
        "  return updated_text\n",
        "# to tokenise the string and remove stopwords\n",
        "def remove_stopwords(raw_text):\n",
        "  tokenize= nltk.word_tokenize(raw_text)\n",
        "  updated_text=[word for word in tokenize if word not in stopWords]\n",
        "  return \" \".join(updated_text)\n",
        "# implement this lemmatizer ony after initial model training. After implementing, check for any changes in results\n",
        "# def lemmitize(raw_text):\n",
        "#   lemmatizer=WordNetLemmatizer()\n",
        "#   tokenise=nltk.tokenize.word_tokenize(raw_text)\n",
        "#   lemminised_words=[lemmatizer.lemmatize(word) for word in tokenise]\n",
        "#   return \" \".join(lemminised_words)\n",
        "# calling all the above functions\n",
        "def preprocess(raw_text):\n",
        "  updated=[]\n",
        "  updated=[remove_entity(text) for text in raw_text]\n",
        "  updated=[remove_user_tags(text) for text in updated]\n",
        "  updated=[remove_urls(text) for text in updated]\n",
        "  updated=[remove_noise(text) for text in updated]\n",
        "  updated=[remove_stopwords(text) for text in updated]\n",
        "  # updated=[lemmitize(text) for text in updated ]\n",
        "  return updated\n",
        "updated_tweet=preprocess(tweet)"
      ],
      "metadata": {
        "id": "jxYRSC0ObSqq"
      },
      "execution_count": null,
      "outputs": []
    },
    {
      "cell_type": "markdown",
      "source": [
        "<h2> Explaination of regex given above</h2>\n",
        "<ul>\n",
        "<li> <h3> HTML func regex = r\"&(#\\d+|#x[a-fA-F0-9]+|[a-zA-Z]+)\n",
        "  <ul> <li>r stands to tell that the text is raw\n",
        "      <li>  #\\d tells for numeric references eg &#12345\n",
        "      <li> #x[a-fA-F0-9] tells for hexadecimal numeric references\n",
        "      <li> [a-zA-Z] mathces named entities &amp, &lt\n",
        "  </ul>\n",
        "<li><h3> user tags func = r\"@\\w+\"\n",
        "  <ul> <li> \\w stands for  all alphanumeric letters and _\n",
        "        <li> example \"Hey @john_doe, check this out! Also, @alice123 and @user.test are here.\" changes to \"Hey user, check this out! Also, user and user are here.\"\n",
        "  </ul>\n",
        "<li><h3> url func = r\"https?://\\S+|www\\.\\S+\"\n",
        "  <ul> <li> https? means the s in last is optional. hence it mathces to both http and https.\n",
        "      <li> \\S+ matches any additional string\n",
        "      <li> www\\.\\S+ matches for all url in for www.dsfdjskn.com\n",
        "      <li> flag=re.IGNORECASE means it matches irrespective of case of letters\n",
        "  </ul>\n",
        "<li> <h3> remove noise func\n",
        "  <ul> <li> removes \", ', !' or two and more dots\n",
        "  </ul>\n"
      ],
      "metadata": {
        "id": "W-d-iVVxcwSJ"
      }
    },
    {
      "cell_type": "markdown",
      "source": [
        "<h1> 4) splitting the data into training and testing"
      ],
      "metadata": {
        "id": "Uen0TXbAjtO9"
      }
    },
    {
      "cell_type": "code",
      "source": [
        "x_train,x_test,y_train,y_test=train_test_split()"
      ],
      "metadata": {
        "id": "jymqbSySimXF"
      },
      "execution_count": null,
      "outputs": []
    }
  ]
}
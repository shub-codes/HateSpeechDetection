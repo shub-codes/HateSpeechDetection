{
  "nbformat": 4,
  "nbformat_minor": 0,
  "metadata": {
    "colab": {
      "provenance": [],
      "mount_file_id": "1i6Hz4z113Wwde2D64tThwN4EFrI-wzpi",
      "authorship_tag": "ABX9TyOAJUdRDlah7L8lY0v+Crcj",
      "include_colab_link": true
    },
    "kernelspec": {
      "name": "python3",
      "display_name": "Python 3"
    },
    "language_info": {
      "name": "python"
    }
  },
  "cells": [
    {
      "cell_type": "markdown",
      "metadata": {
        "id": "view-in-github",
        "colab_type": "text"
      },
      "source": [
        "<a href=\"https://colab.research.google.com/github/shub-codes/HateSpeechDetection/blob/main/Hate_speech_detection.ipynb\" target=\"_parent\"><img src=\"https://colab.research.google.com/assets/colab-badge.svg\" alt=\"Open In Colab\"/></a>"
      ]
    },
    {
      "cell_type": "code",
      "source": [
        "!pip install kaggle\n",
        "!pip install opendatasets"
      ],
      "metadata": {
        "collapsed": true,
        "id": "HI4ca957M2Sf"
      },
      "execution_count": null,
      "outputs": []
    },
    {
      "cell_type": "code",
      "source": [
        "import opendatasets as od\n",
        "od.download(\"https://www.kaggle.com/datasets/thedevastator/hate-speech-and-offensive-language-detection\")"
      ],
      "metadata": {
        "collapsed": true,
        "id": "aTZRIIpbYoDZ"
      },
      "execution_count": null,
      "outputs": []
    },
    {
      "cell_type": "markdown",
      "source": [
        "<h1> 1) importing libraries</h1>\n",
        "<ol>\n",
        "<li>pandas: This module is used for data manipulation and analysis. It provides flexible data structures, including the DataFrame, which allows you to read, write, and perform operations on tabular data such as CSV files in your case.\n",
        "\n",
        "<li>re (regex): This module is used for working with regular expressions in Python. Regular expressions are sequences of characters used for searching and manipulating text strings. In your code, it is used to detect specific patterns such as usernames, URLs, and HTML entities in the text.\n",
        "\n",
        "<li>nltk (Natural Language Toolkit): It is a popular Python library for natural language processing. It provides various functionalities and linguistic resources for working with text data. In your code, it is used to perform word tokenization, which means splitting a sentence into individual words or tokens.\n",
        "\n",
        "<li>nltk.corpus.stopwords: This is a sub-module of NLTK that contains a list of commonly used words called \"stop words.\" These words are typically empty or uninformative words such as \"the,\" \"and,\" \"but,\" etc. They are often removed during text processing to reduce noise and improve performance.\n",
        "\n",
        "<li>sklearn.model_selection.train_test_split: It is a function from scikit-learn that allows you to split data into training and test sets. This is often used to evaluate the performance of a model by reserving a portion of the data for testing.\n",
        "\n",
        "<li>tensorflow.keras.preprocessing.text.Tokenizer: This is a class from TensorFlow-Keras used to convert text into sequences of integers. It is useful for text vectorization before feeding it to a machine learning model.\n",
        "\n",
        "<li>tensorflow.keras.preprocessing.sequence.pad_sequences: This function from TensorFlow-Keras is used to pad sequences of integers to a uniform length. It is often used to prepare text data before using it in neural network models.\n",
        "\n",
        "<li>tensorflow.keras.models.Sequential: It is a class from TensorFlow-Keras that allows you to create sequential neural network models, where layers are stacked on top of each other in a specific order.\n",
        "\n",
        "<li>tensorflow.keras.layers.Embedding: This layer in TensorFlow-Keras is used for word representation as dense vectors in a reduced-dimensional space. It is often used as the first layer in natural language processing models.\n",
        "\n",
        "<li>tensorflow.keras.layers.LSTM: It is a recurrent neural network (RNN) layer called Long Short-Term Memory (LSTM). It is used for sequence processing and is particularly suitable for text analysis.\n",
        "\n",
        "<li>tensorflow.keras.layers.Dense: This layer in TensorFlow-Keras is a fully connected dense layer, where each neuron is connected to all neurons in the previous layer. It is used to represent fully connected layers in a neural network.\n",
        "\n",
        "<li>tensorflow.keras.layers.Dropout: This layer in TensorFlow-Keras is used to apply a regularization technique called \"dropout.\" It randomly deactivates some neurons during training, which helps prevent overfitting of the model.\n",
        "\n",
        "<li>keras.utils.to_categorical: This function from Keras is used to convert categorical variables into binary variables. It is often used to convert labels or classes into one-hot encoding.\n",
        "\n",
        "<li>keras.backend: It is a Keras module that provides low-level functions and operations to interact with the underlying backend, such as TensorFlow in this case.\n",
        "\n",
        "\n",
        "\n"
      ],
      "metadata": {
        "id": "Tbb4d1WZTMYp"
      }
    },
    {
      "cell_type": "code",
      "execution_count": null,
      "metadata": {
        "id": "h6Au-lriS3pX"
      },
      "outputs": [],
      "source": [
        "import pandas as pd #to read and write csv files\n",
        "import numpy as np\n",
        "import nltk\n",
        "nltk.download('stopwords') # natural language toolkit\n",
        "nltk.download('punkt_tab')\n",
        "nltk.download('wordnet')\n",
        "import re #regular expressions\n",
        "import tensorflow as tf\n",
        "from nltk.corpus import stopwords # to remove words like a, the,is etc. such words contribute almost nothing\n",
        "from nltk.stem import WordNetLemmatizer # to impplement lemmitisation\n",
        "from tensorflow.keras.preprocessing.text import Tokenizer\n",
        "from tensorflow.keras.preprocessing.sequence import pad_sequences\n",
        "from tensorflow.keras.models import Sequential\n",
        "from tensorflow.keras.layers import Dense, Embedding, LSTM, SpatialDropout1D, Dropout\n",
        "from sklearn.model_selection import train_test_split\n",
        "from keras.utils import to_categorical\n",
        "import matplotlib.pyplot as plt\n",
        "from keras import backend as K\n"
      ]
    },
    {
      "cell_type": "markdown",
      "source": [
        "<h1> 2) Importing and reading data"
      ],
      "metadata": {
        "id": "M-vQQyaUp162"
      }
    },
    {
      "cell_type": "code",
      "source": [
        "df=pd.read_csv(\"/content/hate-speech-and-offensive-language-detection/train.csv\")\n",
        "print(df.head(5))\n",
        "# print(f\"df has {df.shape[0]}  rows and {df.shape[1]} cols\")\n",
        "tweet=df['tweet']\n",
        "labels=df['class']\n",
        "for head in df.columns[:-1]:\n",
        "  print(f\"{head}\")\n",
        "  print(f\"null values = {df[head].isnull().sum()}\")\n",
        "  print(f\"description of {head} is as follows {df[head].describe()}\")"
      ],
      "metadata": {
        "colab": {
          "base_uri": "https://localhost:8080/"
        },
        "id": "gGfPcG62ZTK5",
        "outputId": "4cbf29ca-a023-4bae-9ddb-d06a441ab1db"
      },
      "execution_count": 6,
      "outputs": [
        {
          "output_type": "stream",
          "name": "stdout",
          "text": [
            "   count  hate_speech_count  offensive_language_count  neither_count  class  \\\n",
            "0      3                  0                         0              3      2   \n",
            "1      3                  0                         3              0      1   \n",
            "2      3                  0                         3              0      1   \n",
            "3      3                  0                         2              1      1   \n",
            "4      6                  0                         6              0      1   \n",
            "\n",
            "                                               tweet  \n",
            "0  !!! RT @mayasolovely: As a woman you shouldn't...  \n",
            "1  !!!!! RT @mleew17: boy dats cold...tyga dwn ba...  \n",
            "2  !!!!!!! RT @UrKindOfBrand Dawg!!!! RT @80sbaby...  \n",
            "3  !!!!!!!!! RT @C_G_Anderson: @viva_based she lo...  \n",
            "4  !!!!!!!!!!!!! RT @ShenikaRoberts: The shit you...  \n",
            "count\n",
            "null values = 0\n",
            "description of count is as follows count    24783.000000\n",
            "mean         3.243473\n",
            "std          0.883060\n",
            "min          3.000000\n",
            "25%          3.000000\n",
            "50%          3.000000\n",
            "75%          3.000000\n",
            "max          9.000000\n",
            "Name: count, dtype: float64\n",
            "hate_speech_count\n",
            "null values = 0\n",
            "description of hate_speech_count is as follows count    24783.000000\n",
            "mean         0.280515\n",
            "std          0.631851\n",
            "min          0.000000\n",
            "25%          0.000000\n",
            "50%          0.000000\n",
            "75%          0.000000\n",
            "max          7.000000\n",
            "Name: hate_speech_count, dtype: float64\n",
            "offensive_language_count\n",
            "null values = 0\n",
            "description of offensive_language_count is as follows count    24783.000000\n",
            "mean         2.413711\n",
            "std          1.399459\n",
            "min          0.000000\n",
            "25%          2.000000\n",
            "50%          3.000000\n",
            "75%          3.000000\n",
            "max          9.000000\n",
            "Name: offensive_language_count, dtype: float64\n",
            "neither_count\n",
            "null values = 0\n",
            "description of neither_count is as follows count    24783.000000\n",
            "mean         0.549247\n",
            "std          1.113299\n",
            "min          0.000000\n",
            "25%          0.000000\n",
            "50%          0.000000\n",
            "75%          0.000000\n",
            "max          9.000000\n",
            "Name: neither_count, dtype: float64\n",
            "class\n",
            "null values = 0\n",
            "description of class is as follows count    24783.000000\n",
            "mean         1.110277\n",
            "std          0.462089\n",
            "min          0.000000\n",
            "25%          1.000000\n",
            "50%          1.000000\n",
            "75%          1.000000\n",
            "max          2.000000\n",
            "Name: class, dtype: float64\n"
          ]
        }
      ]
    },
    {
      "cell_type": "markdown",
      "source": [
        "<h2> plotting dataset</h2>"
      ],
      "metadata": {
        "id": "fsQaADZK3ZPt"
      }
    },
    {
      "cell_type": "code",
      "source": [
        "import seaborn as sns\n",
        "df_corr=df.drop(columns=[df.columns[-1],df.columns[0]])\n",
        "df_corr=df_corr.corr()\n",
        "mask=np.triu(np.ones_like(df_corr))\n",
        "print(df_corr)\n",
        "sns.heatmap(df_corr,annot=True,mask=mask,cmap=\"viridis\")\n"
      ],
      "metadata": {
        "colab": {
          "base_uri": "https://localhost:8080/",
          "height": 824
        },
        "id": "ggOWOSJX3eFr",
        "outputId": "426a6946-31d0-4618-f159-dda7daaf6cf3"
      },
      "execution_count": 7,
      "outputs": [
        {
          "output_type": "stream",
          "name": "stdout",
          "text": [
            "                          hate_speech_count  offensive_language_count  \\\n",
            "hate_speech_count                  1.000000                 -0.261808   \n",
            "offensive_language_count          -0.261808                  1.000000   \n",
            "neither_count                     -0.157599                 -0.684406   \n",
            "class                             -0.515732                 -0.410440   \n",
            "\n",
            "                          neither_count     class  \n",
            "hate_speech_count             -0.157599 -0.515732  \n",
            "offensive_language_count      -0.684406 -0.410440  \n",
            "neither_count                  1.000000  0.800687  \n",
            "class                          0.800687  1.000000  \n"
          ]
        },
        {
          "output_type": "execute_result",
          "data": {
            "text/plain": [
              "<Axes: >"
            ]
          },
          "metadata": {},
          "execution_count": 7
        },
        {
          "output_type": "display_data",
          "data": {
            "text/plain": [
              "<Figure size 640x480 with 2 Axes>"
            ],
            "image/png": "[encoded data removed]"
          },
          "metadata": {}
        }
      ]
    },
    {
      "cell_type": "markdown",
      "source": [
        "<h1> 3) CLEANING THE DATA USING REGULAR EXPRESSIONS </h1>\n",
        "<h3> implement lemmitisation function after initial model training. compare the results with and without lemmitisation. compare runtime, accuracy and f1 score"
      ],
      "metadata": {
        "id": "NtgBip1qnTG9"
      }
    },
    {
      "cell_type": "code",
      "source": [
        "stopWords= set(stopwords.words('english'))\n",
        "stopWords.add('RT') # to add the RT which means retweet\n",
        "#remove html entity\n",
        "def remove_entity(raw_text):\n",
        "  text_regex= r\"&(#\\d+|#x[a-fA-F0-9]+|[a-zA-Z]+);\"\n",
        "  updated_text=re.sub(text_regex,\"\",raw_text)\n",
        "  return updated_text\n",
        "# removes user tags\n",
        "def remove_user_tags(raw_text):\n",
        "  user_regex=r\"@([^ ]+)\"\n",
        "  updated_text=re.sub(user_regex,\"user\",raw_text)\n",
        "  return updated_text\n",
        "# removes urls\n",
        "def remove_urls(raw_text):\n",
        "  url_regex=r\"https?://\\S+|www\\.\\S+\"\n",
        "  updated_text=re.sub(url_regex,\"\",raw_text,flags=re.IGNORECASE)\n",
        "  return updated_text\n",
        "# to remove unnecessary markings\n",
        "def remove_noise(raw_text):\n",
        "  noise_regex=r\"['\\\"!`]|\\.{2,}\"\n",
        "  updated_text=re.sub(noise_regex,\"\",raw_text)\n",
        "  return updated_text\n",
        "# to tokenise the string and remove stopwords\n",
        "def remove_stopwords(raw_text):\n",
        "  tokenize= nltk.word_tokenize(raw_text)\n",
        "  updated_text=[word for word in tokenize if word not in stopWords]\n",
        "  return \" \".join(updated_text)\n",
        "# implement this lemmatizer ony after initial model training. After implementing, check for any changes in results\n",
        "def lemmatize(raw_text):\n",
        "  lemmatizer=WordNetLemmatizer()\n",
        "  tokenise=nltk.tokenize.word_tokenize(raw_text)\n",
        "  lemminised_words=[lemmatizer.lemmatize(word) for word in tokenise]\n",
        "  return \" \".join(lemminised_words)\n",
        "# calling all the above functions\n",
        "def preprocess(raw_text):\n",
        "  updated=[]\n",
        "  updated=[remove_entity(text) for text in raw_text]\n",
        "  updated=[remove_user_tags(text) for text in updated]\n",
        "  updated=[remove_urls(text) for text in updated]\n",
        "  updated=[remove_noise(text) for text in updated]\n",
        "  updated=[remove_stopwords(text) for text in updated]\n",
        "  updated=[lemmatize(text) for text in updated ]\n",
        "  return updated\n"
      ],
      "metadata": {
        "id": "jxYRSC0ObSqq"
      },
      "execution_count": 20,
      "outputs": []
    },
    {
      "cell_type": "code",
      "source": [
        "updated_tweet=preprocess(tweet)"
      ],
      "metadata": {
        "id": "Ya6-ZC_LsC3P"
      },
      "execution_count": 98,
      "outputs": []
    },
    {
      "cell_type": "markdown",
      "source": [
        "<h2> Explaination of regex given above</h2>\n",
        "<ul>\n",
        "<li> <h3> HTML func regex = r\"&(#\\d+|#x[a-fA-F0-9]+|[a-zA-Z]+)\n",
        "  <ul> <li>r stands to tell that the text is raw\n",
        "      <li>  #\\d tells for numeric references eg &#12345\n",
        "      <li> #x[a-fA-F0-9] tells for hexadecimal numeric references\n",
        "      <li> [a-zA-Z] mathces named entities &amp, &lt\n",
        "  </ul>\n",
        "<li><h3> user tags func = r\"@\\w+\"\n",
        "  <ul> <li> \\w stands for  all alphanumeric letters and _\n",
        "        <li> example \"Hey @john_doe, check this out! Also, @alice123 and @user.test are here.\" changes to \"Hey user, check this out! Also, user and user are here.\"\n",
        "  </ul>\n",
        "<li><h3> url func = r\"https?://\\S+|www\\.\\S+\"\n",
        "  <ul> <li> https? means the s in last is optional. hence it mathces to both http and https.\n",
        "      <li> \\S+ matches any additional string\n",
        "      <li> www\\.\\S+ matches for all url in for www.dsfdjskn.com\n",
        "      <li> flag=re.IGNORECASE means it matches irrespective of case of letters\n",
        "  </ul>\n",
        "<li> <h3> remove noise func\n",
        "  <ul> <li> removes \", ', !' or two and more dots\n",
        "  </ul>\n"
      ],
      "metadata": {
        "id": "W-d-iVVxcwSJ"
      }
    },
    {
      "cell_type": "markdown",
      "source": [
        "<h1> 4) splitting the data into training and testing</h1>\n",
        "\n",
        "\n",
        "<h3> Building vocabulary</h3>\n",
        "*   Vocabulary= number of unique words in dataset\n",
        "*   build the vocabulary based on training dataset\n",
        "\n"
      ],
      "metadata": {
        "id": "Uen0TXbAjtO9"
      }
    },
    {
      "cell_type": "code",
      "source": [
        "x_train,x_test,y_train,y_test=train_test_split(updated_tweet,labels,train_size=0.80,random_state=40)\n",
        "tokenizer=Tokenizer() #creates an instance of keras tokenizer\n",
        "tokenizer.fit_on_texts(x_train) # mathces each unique word in x_train to integer index--> builds a vocabulary\n",
        "x_train=tokenizer.texts_to_sequences(x_train) #convert all words in x_train to index from vocabulary\n",
        "x_test=tokenizer.texts_to_sequences(x_test)\n"
      ],
      "metadata": {
        "id": "jymqbSySimXF"
      },
      "execution_count": 119,
      "outputs": []
    },
    {
      "cell_type": "markdown",
      "source": [
        " <h3> Padding the data</h3>\n",
        " we need to pad the training and testing data as neural networks require the inputs to be of equal lenght. we can take the maximul length of any sequence, whether in training or testing data( hence orignal unsplit data is used)"
      ],
      "metadata": {
        "id": "KvJItA6yAKNi"
      }
    },
    {
      "cell_type": "code",
      "source": [
        "max_len = max(len(seq) for seq in x_train)\n",
        "\n",
        "# to test an outlier case (if one of the test dataset has longer length)\n",
        "for x in x_test:\n",
        "    if len(x) > max_length:\n",
        "        print(f\"an outlier detected: {x}\")\n",
        "x_train=pad_sequences(x_train, maxlen=max_len,padding='post')\n",
        "x_test=pad_sequences(x_test, maxlen=max_len,padding='post')"
      ],
      "metadata": {
        "id": "_on_lCdI9m8v"
      },
      "execution_count": 120,
      "outputs": []
    },
    {
      "cell_type": "markdown",
      "source": [
        "<h3> One Hot Encoding</h3>\n",
        "One hot encoding is used for followig purposes\n",
        "\n",
        "\n",
        "*   Neural Networks expect categorical outputs in OHE format\n",
        "*   OHE treats them as independet categories. Example : avoids mistake of comparing 2>1>0 as they are non comparable\n",
        "\n"
      ],
      "metadata": {
        "id": "dVYTw69rBBqP"
      }
    },
    {
      "cell_type": "code",
      "source": [
        "y_train=to_categorical(y_train)\n",
        "y_test=to_categorical(y_test)"
      ],
      "metadata": {
        "id": "Tw9GZBJiBoPF"
      },
      "execution_count": 121,
      "outputs": []
    },
    {
      "cell_type": "markdown",
      "source": [
        "<h1> 5) model Building</h1>"
      ],
      "metadata": {
        "id": "dBX5PEquB0F0"
      }
    },
    {
      "cell_type": "markdown",
      "source": [
        "<ol>\n",
        "<li>recall(y_true, y_pred):\n",
        "<ul>\n",
        "<li>K.round(K.clip(y_true * y_pred, 0, 1)): This operation element-wise multiplies the true labels (y_true) and the model predictions (y_pred), and then rounds the results to the nearest integer. The K.clip() function is used to limit the resulting values between 0 and 1, keeping only the binary values. This yields a matrix of the same shape as y_true and y_pred, with 1s for true positives and 0s for other cases.\n",
        "\n",
        "<li>K.sum(K.round(K.clip(y_true * y_pred, 0, 1))): This operation calculates the sum of all elements in the matrix obtained in the previous step, giving the total number of true positives.\n",
        "\n",
        "<li>K.sum(K.round(K.clip(y_true, 0, 1))): This operation calculates the sum of all elements in the y_true matrix, after rounding and clipping between 0 and 1. This corresponds to the total number of actual positives.\n",
        "\n",
        "<li>recall = true_p/ (actual_p): This operation calculates recall by dividing the number of true positives by the total number of actual positives.\n",
        "</ul>\n",
        "<li>precision(y_true, y_pred):\n",
        "<ul>\n",
        "<li>K.round(K.clip(y_true * y_pred, 0, 1)): This operation is similar to the one in recall(). It element-wise multiplies the true labels (y_true) and the model predictions (y_pred), and then rounds the results to the nearest integer. The K.clip() function is used to limit the resulting values between 0 and 1.\n",
        "\n",
        "<li>K.sum(K.round(K.clip(y_true * y_pred, 0, 1))): This operation calculates the total number of true positives.\n",
        "\n",
        "<li>K.sum(K.round(K.clip(y_pred, 0, 1))): This operation calculates the sum of all elements in the y_pred matrix, after rounding and clipping between 0 and 1. This corresponds to the total number of samples predicted as positives by the model.\n",
        "\n",
        "<li>precision = true_p / (predicted_p): This operation calculates precision by dividing the number of true positives by the total number of samples predicted as positives.\n",
        "</ul>\n",
        "<li>f1(y_true, y_pred):\n",
        "<ul>\n",
        "<li>precision = precision(y_true, y_pred): This operation calls the precision() function to calculate precision.\n",
        "\n",
        "<li>recall = recall(y_true, y_pred): This operation calls the recall() function to calculate recall.\n",
        "\n",
        "<li>f1 = 2 * ((precisions * recalls) / (precisions + recalls)): This operation uses the precision (precisions) and recall (recalls) values to calculate the F1 score.  The F1 score is a combined measure of precision and recall, providing an overall indication of the performance of a binary classification model."
      ],
      "metadata": {
        "id": "1UF7aDBtD9cg"
      }
    },
    {
      "source": [
        "def recall(y_test, y_pred):\n",
        "    true_p = tf.math.reduce_sum(tf.math.round(tf.clip_by_value(y_test * y_pred, 0, 1)))\n",
        "    actual_p = tf.math.reduce_sum(tf.math.round(tf.clip_by_value(y_test, 0, 1)))\n",
        "    # Use tf.cond for conditional logic in TensorFlow\n",
        "    return tf.cond(tf.equal(actual_p, 0), lambda: 0.0, lambda: true_p / actual_p)\n",
        "\n",
        "def precision(y_test, y_pred):\n",
        "    true_p = tf.math.reduce_sum(tf.math.round(tf.clip_by_value(y_test * y_pred, 0, 1)))\n",
        "    predicted_p = tf.math.reduce_sum(tf.math.round(tf.clip_by_value(y_pred, 0, 1)))\n",
        "    # Use tf.cond for conditional logic in TensorFlow\n",
        "    return tf.cond(tf.equal(predicted_p, 0), lambda: 0.0, lambda: true_p / predicted_p)\n",
        "\n",
        "def f1(y_test, y_pred):\n",
        "    precisions = precision(y_test, y_pred)\n",
        "    recalls = recall(y_test, y_pred)\n",
        "    # Use tf.cond for conditional logic in TensorFlow\n",
        "    return tf.cond(tf.equal(precisions + recalls, 0), lambda: 0.0, lambda: 2 * (precisions * recalls) / (precisions + recalls))"
      ],
      "cell_type": "code",
      "metadata": {
        "id": "lwQDE0LC4uYI"
      },
      "execution_count": 122,
      "outputs": []
    },
    {
      "cell_type": "markdown",
      "source": [
        "<h2> Definitions and need </h2>\n",
        "<h3>output_dim</h3> it mentions how many features is a word is defind against. It essentially determines the number of dimension in which the word vector is represented. The model will learn these representations during training.Larger values capture more information but also increase computational cost.\n",
        "<h3>sequential</h3> as a lstm is a sequential model\n"
      ],
      "metadata": {
        "id": "HQwplHuSG9d0"
      }
    },
    {
      "cell_type": "markdown",
      "source": [
        "<h1> Defining and building the model"
      ],
      "metadata": {
        "id": "sTp7h7mm3q-o"
      }
    },
    {
      "cell_type": "code",
      "source": [
        "output_dim=200\n",
        "vocab_size=len(tokenizer.word_index)+1\n",
        "lstm_model=Sequential([\n",
        "    Embedding(vocab_size,output_dim,input_length=max_len),\n",
        "    LSTM(64,dropout=0.3,recurrent_dropout=0.3),\n",
        "    Dropout(0.5),\n",
        "    Dense(128,activation='relu'),\n",
        "    Dropout(0.5),\n",
        "    Dense(3,activation='softmax')\n",
        "])\n"
      ],
      "metadata": {
        "id": "EEm5KDKoHggk"
      },
      "execution_count": 124,
      "outputs": []
    },
    {
      "cell_type": "code",
      "source": [
        "lstm_model.compile(optimizer='adam',loss='categorical_crossentropy',metrics=['accuracy',precision,recall,f1])\n",
        "lstm_model.build(input_shape=(None, max_len))"
      ],
      "metadata": {
        "id": "N03_blK40evU"
      },
      "execution_count": 125,
      "outputs": []
    },
    {
      "cell_type": "code",
      "source": [
        "lstm_model.summary()"
      ],
      "metadata": {
        "colab": {
          "base_uri": "https://localhost:8080/",
          "height": 334
        },
        "id": "lrAiF1Aiw8iF",
        "outputId": "bbf39763-189c-4d5e-80ec-d9a47f1f3508"
      },
      "execution_count": 126,
      "outputs": [
        {
          "output_type": "display_data",
          "data": {
            "text/plain": [
              "\u001b[1mModel: \"sequential_22\"\u001b[0m\n"
            ],
            "text/html": [
              "<pre style=\"white-space:pre;overflow-x:auto;line-height:normal;font-family:Menlo,'DejaVu Sans Mono',consolas,'Courier New',monospace\"><span style=\"font-weight: bold\">Model: \"sequential_22\"</span>\n",
              "</pre>\n"
            ]
          },
          "metadata": {}
        },
        {
          "output_type": "display_data",
          "data": {
            "text/plain": [
              "┏━━━━━━━━━━━━━━━━━━━━━━━━━━━━━━━━━┳━━━━━━━━━━━━━━━━━━━━━━━━┳━━━━━━━━━━━━━━━┓\n",
              "┃\u001b[1m \u001b[0m\u001b[1mLayer (type)                   \u001b[0m\u001b[1m \u001b[0m┃\u001b[1m \u001b[0m\u001b[1mOutput Shape          \u001b[0m\u001b[1m \u001b[0m┃\u001b[1m \u001b[0m\u001b[1m      Param #\u001b[0m\u001b[1m \u001b[0m┃\n",
              "┡━━━━━━━━━━━━━━━━━━━━━━━━━━━━━━━━━╇━━━━━━━━━━━━━━━━━━━━━━━━╇━━━━━━━━━━━━━━━┩\n",
              "│ embedding_22 (\u001b[38;5;33mEmbedding\u001b[0m)        │ (\u001b[38;5;45mNone\u001b[0m, \u001b[38;5;34m28\u001b[0m, \u001b[38;5;34m200\u001b[0m)        │     \u001b[38;5;34m3,578,400\u001b[0m │\n",
              "├─────────────────────────────────┼────────────────────────┼───────────────┤\n",
              "│ lstm_22 (\u001b[38;5;33mLSTM\u001b[0m)                  │ (\u001b[38;5;45mNone\u001b[0m, \u001b[38;5;34m64\u001b[0m)             │        \u001b[38;5;34m67,840\u001b[0m │\n",
              "├─────────────────────────────────┼────────────────────────┼───────────────┤\n",
              "│ dropout_44 (\u001b[38;5;33mDropout\u001b[0m)            │ (\u001b[38;5;45mNone\u001b[0m, \u001b[38;5;34m64\u001b[0m)             │             \u001b[38;5;34m0\u001b[0m │\n",
              "├─────────────────────────────────┼────────────────────────┼───────────────┤\n",
              "│ dense_44 (\u001b[38;5;33mDense\u001b[0m)                │ (\u001b[38;5;45mNone\u001b[0m, \u001b[38;5;34m128\u001b[0m)            │         \u001b[38;5;34m8,320\u001b[0m │\n",
              "├─────────────────────────────────┼────────────────────────┼───────────────┤\n",
              "│ dropout_45 (\u001b[38;5;33mDropout\u001b[0m)            │ (\u001b[38;5;45mNone\u001b[0m, \u001b[38;5;34m128\u001b[0m)            │             \u001b[38;5;34m0\u001b[0m │\n",
              "├─────────────────────────────────┼────────────────────────┼───────────────┤\n",
              "│ dense_45 (\u001b[38;5;33mDense\u001b[0m)                │ (\u001b[38;5;45mNone\u001b[0m, \u001b[38;5;34m3\u001b[0m)              │           \u001b[38;5;34m387\u001b[0m │\n",
              "└─────────────────────────────────┴────────────────────────┴───────────────┘\n"
            ],
            "text/html": [
              "<pre style=\"white-space:pre;overflow-x:auto;line-height:normal;font-family:Menlo,'DejaVu Sans Mono',consolas,'Courier New',monospace\">┏━━━━━━━━━━━━━━━━━━━━━━━━━━━━━━━━━┳━━━━━━━━━━━━━━━━━━━━━━━━┳━━━━━━━━━━━━━━━┓\n",
              "┃<span style=\"font-weight: bold\"> Layer (type)                    </span>┃<span style=\"font-weight: bold\"> Output Shape           </span>┃<span style=\"font-weight: bold\">       Param # </span>┃\n",
              "┡━━━━━━━━━━━━━━━━━━━━━━━━━━━━━━━━━╇━━━━━━━━━━━━━━━━━━━━━━━━╇━━━━━━━━━━━━━━━┩\n",
              "│ embedding_22 (<span style=\"color: #0087ff; text-decoration-color: #0087ff\">Embedding</span>)        │ (<span style=\"color: #00d7ff; text-decoration-color: #00d7ff\">None</span>, <span style=\"color: #00af00; text-decoration-color: #00af00\">28</span>, <span style=\"color: #00af00; text-decoration-color: #00af00\">200</span>)        │     <span style=\"color: #00af00; text-decoration-color: #00af00\">3,578,400</span> │\n",
              "├─────────────────────────────────┼────────────────────────┼───────────────┤\n",
              "│ lstm_22 (<span style=\"color: #0087ff; text-decoration-color: #0087ff\">LSTM</span>)                  │ (<span style=\"color: #00d7ff; text-decoration-color: #00d7ff\">None</span>, <span style=\"color: #00af00; text-decoration-color: #00af00\">64</span>)             │        <span style=\"color: #00af00; text-decoration-color: #00af00\">67,840</span> │\n",
              "├─────────────────────────────────┼────────────────────────┼───────────────┤\n",
              "│ dropout_44 (<span style=\"color: #0087ff; text-decoration-color: #0087ff\">Dropout</span>)            │ (<span style=\"color: #00d7ff; text-decoration-color: #00d7ff\">None</span>, <span style=\"color: #00af00; text-decoration-color: #00af00\">64</span>)             │             <span style=\"color: #00af00; text-decoration-color: #00af00\">0</span> │\n",
              "├─────────────────────────────────┼────────────────────────┼───────────────┤\n",
              "│ dense_44 (<span style=\"color: #0087ff; text-decoration-color: #0087ff\">Dense</span>)                │ (<span style=\"color: #00d7ff; text-decoration-color: #00d7ff\">None</span>, <span style=\"color: #00af00; text-decoration-color: #00af00\">128</span>)            │         <span style=\"color: #00af00; text-decoration-color: #00af00\">8,320</span> │\n",
              "├─────────────────────────────────┼────────────────────────┼───────────────┤\n",
              "│ dropout_45 (<span style=\"color: #0087ff; text-decoration-color: #0087ff\">Dropout</span>)            │ (<span style=\"color: #00d7ff; text-decoration-color: #00d7ff\">None</span>, <span style=\"color: #00af00; text-decoration-color: #00af00\">128</span>)            │             <span style=\"color: #00af00; text-decoration-color: #00af00\">0</span> │\n",
              "├─────────────────────────────────┼────────────────────────┼───────────────┤\n",
              "│ dense_45 (<span style=\"color: #0087ff; text-decoration-color: #0087ff\">Dense</span>)                │ (<span style=\"color: #00d7ff; text-decoration-color: #00d7ff\">None</span>, <span style=\"color: #00af00; text-decoration-color: #00af00\">3</span>)              │           <span style=\"color: #00af00; text-decoration-color: #00af00\">387</span> │\n",
              "└─────────────────────────────────┴────────────────────────┴───────────────┘\n",
              "</pre>\n"
            ]
          },
          "metadata": {}
        },
        {
          "output_type": "display_data",
          "data": {
            "text/plain": [
              "\u001b[1m Total params: \u001b[0m\u001b[38;5;34m3,654,947\u001b[0m (13.94 MB)\n"
            ],
            "text/html": [
              "<pre style=\"white-space:pre;overflow-x:auto;line-height:normal;font-family:Menlo,'DejaVu Sans Mono',consolas,'Courier New',monospace\"><span style=\"font-weight: bold\"> Total params: </span><span style=\"color: #00af00; text-decoration-color: #00af00\">3,654,947</span> (13.94 MB)\n",
              "</pre>\n"
            ]
          },
          "metadata": {}
        },
        {
          "output_type": "display_data",
          "data": {
            "text/plain": [
              "\u001b[1m Trainable params: \u001b[0m\u001b[38;5;34m3,654,947\u001b[0m (13.94 MB)\n"
            ],
            "text/html": [
              "<pre style=\"white-space:pre;overflow-x:auto;line-height:normal;font-family:Menlo,'DejaVu Sans Mono',consolas,'Courier New',monospace\"><span style=\"font-weight: bold\"> Trainable params: </span><span style=\"color: #00af00; text-decoration-color: #00af00\">3,654,947</span> (13.94 MB)\n",
              "</pre>\n"
            ]
          },
          "metadata": {}
        },
        {
          "output_type": "display_data",
          "data": {
            "text/plain": [
              "\u001b[1m Non-trainable params: \u001b[0m\u001b[38;5;34m0\u001b[0m (0.00 B)\n"
            ],
            "text/html": [
              "<pre style=\"white-space:pre;overflow-x:auto;line-height:normal;font-family:Menlo,'DejaVu Sans Mono',consolas,'Courier New',monospace\"><span style=\"font-weight: bold\"> Non-trainable params: </span><span style=\"color: #00af00; text-decoration-color: #00af00\">0</span> (0.00 B)\n",
              "</pre>\n"
            ]
          },
          "metadata": {}
        }
      ]
    },
    {
      "cell_type": "markdown",
      "source": [
        "<h2> Explaination of above output</h2>\n",
        "<ol>\n",
        "<li> <h3> embeddings <h3>\n",
        "<ul> <li> each of 28 tokens map to a 200 dimensional vector\n",
        "      <li> param= vocab_size*output_dim\n",
        "</ul>\n",
        "<li><h3>lstm</h3>\n",
        "<ul><li> x=hidden layers<li> param=(input_dim+x+1)*4*x<li> Why ×4? LSTM has 4 gates (input, forget, cell, output), each with its own weights.\n",
        "</ul>\n",
        "<li>Dense_6=>param=input*neurons+biases\n",
        "<li> dense_7=> param=128*3+3\n",
        "\n",
        "\n"
      ],
      "metadata": {
        "id": "4LUtPQGN1V-c"
      }
    },
    {
      "cell_type": "markdown",
      "source": [
        "<h1> Training the model"
      ],
      "metadata": {
        "id": "_CQzv0zE3e0r"
      }
    },
    {
      "cell_type": "code",
      "source": [
        "model_training=lstm_model.fit(x_train,y_train,epochs=10,validation_data=(x_test,y_test))"
      ],
      "metadata": {
        "colab": {
          "base_uri": "https://localhost:8080/"
        },
        "id": "rMtxhxD93dx0",
        "outputId": "93ccadbd-c845-49b5-fccc-22d5221327a9"
      },
      "execution_count": 127,
      "outputs": [
        {
          "output_type": "stream",
          "name": "stdout",
          "text": [
            "Epoch 1/10\n",
            "\u001b[1m620/620\u001b[0m \u001b[32m━━━━━━━━━━━━━━━━━━━━\u001b[0m\u001b[37m\u001b[0m \u001b[1m33s\u001b[0m 48ms/step - accuracy: 0.7795 - f1: 0.7459 - loss: 0.6574 - precision: 0.7660 - recall: 0.7303 - val_accuracy: 0.8713 - val_f1: 0.8722 - val_loss: 0.3804 - val_precision: 0.8816 - val_recall: 0.8632\n",
            "Epoch 2/10\n",
            "\u001b[1m620/620\u001b[0m \u001b[32m━━━━━━━━━━━━━━━━━━━━\u001b[0m\u001b[37m\u001b[0m \u001b[1m29s\u001b[0m 46ms/step - accuracy: 0.8897 - f1: 0.8878 - loss: 0.3542 - precision: 0.9063 - recall: 0.8706 - val_accuracy: 0.8919 - val_f1: 0.8925 - val_loss: 0.3214 - val_precision: 0.9084 - val_recall: 0.8777\n",
            "Epoch 3/10\n",
            "\u001b[1m620/620\u001b[0m \u001b[32m━━━━━━━━━━━━━━━━━━━━\u001b[0m\u001b[37m\u001b[0m \u001b[1m41s\u001b[0m 46ms/step - accuracy: 0.9173 - f1: 0.9176 - loss: 0.2665 - precision: 0.9306 - recall: 0.9053 - val_accuracy: 0.8921 - val_f1: 0.8931 - val_loss: 0.3484 - val_precision: 0.9006 - val_recall: 0.8860\n",
            "Epoch 4/10\n",
            "\u001b[1m620/620\u001b[0m \u001b[32m━━━━━━━━━━━━━━━━━━━━\u001b[0m\u001b[37m\u001b[0m \u001b[1m42s\u001b[0m 48ms/step - accuracy: 0.9309 - f1: 0.9313 - loss: 0.2025 - precision: 0.9411 - recall: 0.9220 - val_accuracy: 0.8929 - val_f1: 0.8926 - val_loss: 0.3523 - val_precision: 0.9083 - val_recall: 0.8777\n",
            "Epoch 5/10\n",
            "\u001b[1m620/620\u001b[0m \u001b[32m━━━━━━━━━━━━━━━━━━━━\u001b[0m\u001b[37m\u001b[0m \u001b[1m39s\u001b[0m 46ms/step - accuracy: 0.9435 - f1: 0.9433 - loss: 0.1531 - precision: 0.9518 - recall: 0.9351 - val_accuracy: 0.8905 - val_f1: 0.8909 - val_loss: 0.4006 - val_precision: 0.8947 - val_recall: 0.8872\n",
            "Epoch 6/10\n",
            "\u001b[1m620/620\u001b[0m \u001b[32m━━━━━━━━━━━━━━━━━━━━\u001b[0m\u001b[37m\u001b[0m \u001b[1m41s\u001b[0m 46ms/step - accuracy: 0.9600 - f1: 0.9598 - loss: 0.1180 - precision: 0.9629 - recall: 0.9568 - val_accuracy: 0.8850 - val_f1: 0.8856 - val_loss: 0.4142 - val_precision: 0.8902 - val_recall: 0.8812\n",
            "Epoch 7/10\n",
            "\u001b[1m620/620\u001b[0m \u001b[32m━━━━━━━━━━━━━━━━━━━━\u001b[0m\u001b[37m\u001b[0m \u001b[1m40s\u001b[0m 45ms/step - accuracy: 0.9720 - f1: 0.9724 - loss: 0.0838 - precision: 0.9751 - recall: 0.9699 - val_accuracy: 0.8909 - val_f1: 0.8901 - val_loss: 0.5106 - val_precision: 0.8933 - val_recall: 0.8870\n",
            "Epoch 8/10\n",
            "\u001b[1m620/620\u001b[0m \u001b[32m━━━━━━━━━━━━━━━━━━━━\u001b[0m\u001b[37m\u001b[0m \u001b[1m42s\u001b[0m 46ms/step - accuracy: 0.9757 - f1: 0.9760 - loss: 0.0724 - precision: 0.9780 - recall: 0.9741 - val_accuracy: 0.8820 - val_f1: 0.8823 - val_loss: 0.5292 - val_precision: 0.8849 - val_recall: 0.8798\n",
            "Epoch 9/10\n",
            "\u001b[1m620/620\u001b[0m \u001b[32m━━━━━━━━━━━━━━━━━━━━\u001b[0m\u001b[37m\u001b[0m \u001b[1m42s\u001b[0m 47ms/step - accuracy: 0.9794 - f1: 0.9796 - loss: 0.0562 - precision: 0.9810 - recall: 0.9781 - val_accuracy: 0.8840 - val_f1: 0.8837 - val_loss: 0.6388 - val_precision: 0.8869 - val_recall: 0.8806\n",
            "Epoch 10/10\n",
            "\u001b[1m620/620\u001b[0m \u001b[32m━━━━━━━━━━━━━━━━━━━━\u001b[0m\u001b[37m\u001b[0m \u001b[1m40s\u001b[0m 45ms/step - accuracy: 0.9838 - f1: 0.9839 - loss: 0.0456 - precision: 0.9850 - recall: 0.9828 - val_accuracy: 0.8725 - val_f1: 0.8727 - val_loss: 0.6102 - val_precision: 0.8764 - val_recall: 0.8691\n"
          ]
        }
      ]
    },
    {
      "cell_type": "markdown",
      "source": [
        "<h2> imp infor on results</h2>\n",
        "f1,accuracy,recall and precisons are values for training data while val_f1, val_precision and others are for testing data"
      ],
      "metadata": {
        "id": "xLWPNdHo7Z3h"
      }
    },
    {
      "cell_type": "code",
      "source": [
        "import matplotlib.pyplot as plt\n",
        "hist = lstm_model.history.history\n",
        "plt.plot(hist['loss'],'r',linewidth=2, label='Training loss')\n",
        "plt.plot(hist['val_loss'], 'g',linewidth=2, label='Validation loss')\n",
        "plt.title('Hate Speech and Offensive language Model')\n",
        "plt.xlabel('Epochs numbers')\n",
        "plt.ylabel('MSE numbers')\n",
        "plt.show()"
      ],
      "metadata": {
        "colab": {
          "base_uri": "https://localhost:8080/",
          "height": 472
        },
        "id": "wcIGqZJnDUS9",
        "outputId": "58982a09-7f98-426b-e9b1-b55d77512725"
      },
      "execution_count": 128,
      "outputs": [
        {
          "output_type": "display_data",
          "data": {
            "text/plain": [
              "<Figure size 640x480 with 1 Axes>"
            ],
            "image/png": "[encoded data removed]"
          },
          "metadata": {}
        }
      ]
    }
  ]
}